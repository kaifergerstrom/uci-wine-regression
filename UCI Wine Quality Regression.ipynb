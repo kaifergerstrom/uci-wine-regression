{
 "cells": [
  {
   "cell_type": "markdown",
   "metadata": {},
   "source": [
    "# UCI Wine Quality Regression\n",
    "#### UCI Wine Quality Data Set https://archive.ics.uci.edu/ml/datasets/Wine+Quality\n",
    "***Goal: Can the quality of wine be predicted based on its characteristics?***"
   ]
  },
  {
   "cell_type": "code",
   "execution_count": 53,
   "metadata": {},
   "outputs": [],
   "source": [
    "#### 1. Import neccesary libraries\n",
    "import math\n",
    "import numpy as np\n",
    "import pandas as pd\n",
    "import matplotlib.pyplot as plt\n",
    "from sklearn import preprocessing\n",
    "from sklearn.model_selection import train_test_split\n",
    "from sklearn.linear_model import LinearRegression\n",
    "from sklearn.preprocessing\n",
    "from sklearn.metrics import mean_squared_error, r2_score"
   ]
  },
  {
   "cell_type": "code",
   "execution_count": 173,
   "metadata": {},
   "outputs": [],
   "source": [
    "### 2. Prepare data set\n",
    "df = pd.read_csv(\"data/winequality-red.csv\", sep=\";\")  # Parse CSV by \";\" character"
   ]
  },
  {
   "cell_type": "code",
   "execution_count": 179,
   "metadata": {},
   "outputs": [],
   "source": [
    "### 3. Prepare training/testing data\n",
    "\n",
    "X = df.drop(['quality'],1)\n",
    "X = preprocessing.scale(X)  # Scale and Normalize x values\n",
    "y = df['quality']\n",
    "\n",
    "df.dropna(inplace=True)  # Remove NaN values\n",
    "\n",
    "X_train, X_test, y_train, y_test = train_test_split(X, y, test_size=0.25)"
   ]
  },
  {
   "cell_type": "code",
   "execution_count": 216,
   "metadata": {},
   "outputs": [
    {
     "name": "stdout",
     "output_type": "stream",
     "text": [
      "88.25\n"
     ]
    }
   ],
   "source": [
    "### 4. Create/Train/Test Model\n",
    "\n",
    "# Create/train model\n",
    "model = LinearRegression(n_jobs=-1)\n",
    "model.fit(X_train, y_train)\n",
    "y_pred = model.predict(X_test)\n"
   ]
  },
  {
   "cell_type": "code",
   "execution_count": 218,
   "metadata": {},
   "outputs": [
    {
     "name": "stdout",
     "output_type": "stream",
     "text": [
      "60.5\n",
      "76.75\n",
      "82.75\n",
      "88.25\n"
     ]
    }
   ],
   "source": [
    "### 5. Hacky loop to check accuracy within margin of error\n",
    "\n",
    "def accuracy(y_test, y_pred, error):\n",
    "    count = 0\n",
    "    i = 0\n",
    "    for index, value in y_test.iteritems():\n",
    "        margin = abs(y_pred[i]-value)\n",
    "        if margin < error:\n",
    "            count += 1\n",
    "        i += 1\n",
    "\n",
    "    accuracy = (count/len(y_pred))*100\n",
    "    return(accuracy)\n",
    "\n",
    "\n",
    "# Some accuracy intervals with margin of error\n",
    "print(accuracy(y_test, y_pred, 0.5))\n",
    "print(accuracy(y_test, y_pred, 0.75))\n",
    "print(accuracy(y_test, y_pred, 0.85))\n",
    "print(accuracy(y_test, y_pred, 1))"
   ]
  },
  {
   "cell_type": "code",
   "execution_count": null,
   "metadata": {},
   "outputs": [],
   "source": []
  }
 ],
 "metadata": {
  "kernelspec": {
   "display_name": "Python 3",
   "language": "python",
   "name": "python3"
  },
  "language_info": {
   "codemirror_mode": {
    "name": "ipython",
    "version": 3
   },
   "file_extension": ".py",
   "mimetype": "text/x-python",
   "name": "python",
   "nbconvert_exporter": "python",
   "pygments_lexer": "ipython3",
   "version": "3.7.3"
  }
 },
 "nbformat": 4,
 "nbformat_minor": 2
}
